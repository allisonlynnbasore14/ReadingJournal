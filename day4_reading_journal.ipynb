{
 "cells": [
  {
   "cell_type": "code",
   "execution_count": null,
   "metadata": {
    "collapsed": true
   },
   "outputs": [],
   "source": [
    "# Day 4 Reading Journal\n",
    "\n",
    "This journal includes several required exercises, but it is meant to encourage active reading more generally.  You should use the journal to take detailed notes, catalog questions, and explore the content from Think Python deeply.\n",
    "\n",
    "Reading: Think Python Chapter 10\n",
    "\n",
    "**Due: Monday, January 30 at 12 noon**\n",
    "\n"
   ]
  },
  {
   "cell_type": "markdown",
   "metadata": {},
   "source": [
    "All my notes are in my printed copy of the book. I will transition to take notes on here soon so I can access them a bit eaiser. For this beginning stuff, the physcial notes are working for me. "
   ]
  },
  {
   "cell_type": "markdown",
   "metadata": {},
   "source": [
    "## [Chapter 10](http://www.greenteapress.com/thinkpython2/html/thinkpython2011.html)\n",
    "\n",
    "You may want to review [state diagrams in Chapter 2](http://www.greenteapress.com/thinkpython22/html/thinkpython003.html#toc13). [Python Tutor](http://pythontutor.com/) is also helpful for visualizing the state of your program.\n",
    "\n"
   ]
  },
  {
   "cell_type": "markdown",
   "metadata": {},
   "source": [
    "### Exercise 10.3 \n",
    "Write a function called `middle` that takes a list and returns a new list that contains all but the first and last elements. So `middle([1,2,3,4])` should return `[2,3]`."
   ]
  },
  {
   "cell_type": "code",
   "execution_count": 3,
   "metadata": {
    "collapsed": false
   },
   "outputs": [
    {
     "data": {
      "text/plain": [
       "[2, 3, 4]"
      ]
     },
     "execution_count": 3,
     "metadata": {},
     "output_type": "execute_result"
    }
   ],
   "source": [
    "def middle(list_given):\n",
    "    l = list_given[1:-1] #makes new list of middle\n",
    "    return l\n",
    "middle([1,2,3,4,5])"
   ]
  },
  {
   "cell_type": "markdown",
   "metadata": {},
   "source": [
    "### Exercise 10.4 \n",
    "Write a function called `chop` that takes a list, modifies it by removing the first and last elements, and returns `None`.\n",
    "\n",
    "What is the difference between `middle` and `chop`? Sketch out the program state or take a look at each in Python Tutor and answer the question in the Markdown cell below."
   ]
  },
  {
   "cell_type": "code",
   "execution_count": 9,
   "metadata": {
    "collapsed": false
   },
   "outputs": [
    {
     "name": "stdout",
     "output_type": "stream",
     "text": [
      "None\n"
     ]
    }
   ],
   "source": [
    "il = [1,2,3,4,5,6]\n",
    "\n",
    "def chop(il):\n",
    "    il.pop()\n",
    "    il.remove(il[0]) \n",
    "    \n",
    "print(chop(il))"
   ]
  },
  {
   "cell_type": "markdown",
   "metadata": {},
   "source": [
    "Chop is not a fruitful function, but middle is. "
   ]
  },
  {
   "cell_type": "markdown",
   "metadata": {},
   "source": [
    "### Exercise 10.6 \n",
    "Two words are anagrams if you can rearrange the letters from one to spell the other. Write a function called `is_anagram` that takes two strings and returns `True` if they are anagrams."
   ]
  },
  {
   "cell_type": "code",
   "execution_count": 18,
   "metadata": {
    "collapsed": false
   },
   "outputs": [
    {
     "data": {
      "text/plain": [
       "True"
      ]
     },
     "execution_count": 18,
     "metadata": {},
     "output_type": "execute_result"
    }
   ],
   "source": [
    "def is_anagram(s1,s2):\n",
    "    s1o = sorted(s1)\n",
    "    s2o = sorted(s2)\n",
    "    if s1o == s2o:\n",
    "        return True\n",
    "    else:\n",
    "        return False\n",
    "    \n",
    "is_anagram('Allison','nosillA')"
   ]
  },
  {
   "cell_type": "markdown",
   "metadata": {},
   "source": [
    "### Exercise 10.8  \n",
    "The (so-called) Birthday Paradox: <br /><br />\n",
    "1\\. Write a function called `has_duplicates` that takes a list and returns `True` if there is any element that appears more than once. It should not modify the original list.\n",
    "\n",
    "2\\. If there are 23 students in your class, what are the chances that two of you have the same birthday? Put your answer in the Markdown cell below. You can estimate this probability by generating random samples of 23 birthdays and checking for matches. Hint: you can generate random birthdays with the randint function from the [random module](https://docs.python.org/2/library/random.html).\n",
    "\n",
    "You can read about this problem at http://en.wikipedia.org/wiki/Birthday_paradox, and you can download Allen's solution from http://greenteapress.com/thinkpython2/code/birthday.py."
   ]
  },
  {
   "cell_type": "raw",
   "metadata": {
    "collapsed": true
   },
   "source": []
  },
  {
   "cell_type": "code",
   "execution_count": 8,
   "metadata": {
    "collapsed": false
   },
   "outputs": [
    {
     "name": "stdout",
     "output_type": "stream",
     "text": [
      "The average probability is 2.833000\n"
     ]
    }
   ],
   "source": [
    "import random\n",
    "\n",
    "def has_duplicates(input_list):\n",
    "    ls = sorted(input_list) #converted the string to a list\n",
    "    for p in ls:    \n",
    "        ls.remove(p) #revomves each letter, one per loop\n",
    "        if p in ls: #checks if there is still the letter in the list\n",
    "            return True\n",
    "    return False\n",
    "        \n",
    "def random_bday():\n",
    "    day = random.randint(1,365)\n",
    "    return day\n",
    "\n",
    "    \n",
    "def your_birthday(month, day):\n",
    "    if month == 1:\n",
    "        return day\n",
    "    if month == 2:\n",
    "        return day + 31\n",
    "    if month == 3:\n",
    "        return day + 60\n",
    "    if month == 4:\n",
    "        return day + 91\n",
    "    if month == 5:\n",
    "        return day + 121\n",
    "    if month == 6:\n",
    "        return day + 152\n",
    "    if month == 7:\n",
    "        return day + 182\n",
    "    if month == 8:\n",
    "        return day + 213\n",
    "    if month == 9:\n",
    "        return day + 244\n",
    "    if month == 10:\n",
    "        return day + 274\n",
    "    if month == 11:\n",
    "        return day + 305\n",
    "    if month == 12:\n",
    "        return day + 335\n",
    "   \n",
    "def check_day(month, day):\n",
    "    yourbirthday = your_birthday(month, day)\n",
    "    r = random_bday()\n",
    "    if r == yourbirthday:\n",
    "        return True\n",
    "        \n",
    "\n",
    "        \n",
    "def check_day_many(simnum):\n",
    "    count = 0\n",
    "    for i in range(0,simnum):\n",
    "        m = check_day(9,15)\n",
    "        if m == True:\n",
    "            count += 1\n",
    "    return count\n",
    "        \n",
    "        \n",
    "def b_day_parodox():\n",
    "    #This is diffrent from the assingment\n",
    "    #This is caclualting if there is a match to my birthday.\n",
    "    num = 1000\n",
    "    count = check_day_many(num)\n",
    "    per = count/num *100\n",
    "    #print(per)\n",
    "    #print('There are %d matches of your birthday with %d simulations' %(count , num))\n",
    "    #print('This means that there is a %f percent chance of someone having the same birthday as you' %per)\n",
    "    return per\n",
    "    \n",
    "def avg_paradox():\n",
    "    total = 0\n",
    "    runs = 1000\n",
    "    for i in range(0,runs):\n",
    "        out = b_day_parodox()\n",
    "        total = total + out\n",
    "    average = total/100\n",
    "    print('The average probability is %f' %average)\n",
    "        \n",
    "    \n",
    "    \n",
    "avg_paradox()"
   ]
  },
  {
   "cell_type": "markdown",
   "metadata": {},
   "source": []
  },
  {
   "cell_type": "markdown",
   "metadata": {},
   "source": [
    "### Challenge: Exercise 10.10 (optional)\n",
    "\n",
    "You should read [Chapter 9.1](http://www.greenteapress.com/thinkpython2/html/thinkpython2010.html) and do Exercise 1 first.\n",
    "\n",
    "To check whether a word is in the word list, you could use the `in` operator, but it would be relatively slow because it searches through the words in order (try it).\n",
    "\n",
    "Because the words are in alphabetical order, we can speed things up with a bisection search (also known as binary search), which is similar to what you do when you look a word up in the dictionary. You start in the middle and check to see whether the word you are looking for comes before the word in the middle of the list. If so, then you search the first half of the list the same way. Otherwise you search the second half.\n",
    "\n",
    "Either way, you cut the remaining search space in half. If the word list has 113,809 words, it will take about 17 steps to find the word or conclude that it’s not there.\n",
    "\n",
    "Write a function called `bisect` that takes a sorted list and a target value and returns the index of the value in the list, if it’s there, or `None` if it’s not.\n",
    "\n",
    "Or you could read the documentation of the `bisect` module and use that! Solution: http://greenteapress.com/thinkpython2/code/inlist.py."
   ]
  },
  {
   "cell_type": "code",
   "execution_count": 15,
   "metadata": {
    "collapsed": false
   },
   "outputs": [
    {
     "name": "stdout",
     "output_type": "stream",
     "text": [
      "blue\n",
      "at\n"
     ]
    },
    {
     "data": {
      "text/plain": [
       "'Found one!'"
      ]
     },
     "execution_count": 15,
     "metadata": {},
     "output_type": "execute_result"
    }
   ],
   "source": [
    "#I am not 100% sure how to inport the file in jupiter, this works with the regular python terminal\n",
    "\n",
    "#fin = open(words.txt)\n",
    "\n",
    "\n",
    "def search_half(word, word_list):\n",
    "    \"\"\"takes a word as an input and seraches by halfs. Returns TRUE if one is found, returns None otherwise\"\"\"\n",
    "    if len(word_list) == 0:\n",
    "        return False\n",
    "    i = len(word_list)//2\n",
    "    midword = word_list[i]\n",
    "    print(midword)\n",
    "    if word == midword:\n",
    "        return True\n",
    "    if word < midword:\n",
    "        return search_half(word, word_list[:i])\n",
    "    else:\n",
    "        return search_half(word, word_list[i+1:])\n",
    "\n",
    "    #if word_list[first\n",
    "        \n",
    "\n",
    "def bisect(word_to_search_for):\n",
    "    testwordlist = ['a','aa','bat','blue', 'hippo','seen', 'ten','at'] #normally this would be words.txt\n",
    "    testwordlist.sort()\n",
    "    index = search_half(word_to_search_for, testwordlist)\n",
    "    if index == True:\n",
    "        return 'Found one!'\n",
    "    else:\n",
    "        return 'No matches, sorry'\n",
    "    \n",
    "bisect('at')\n",
    "        "
   ]
  },
  {
   "cell_type": "markdown",
   "metadata": {},
   "source": [
    "## Reading Journal feedback\n",
    "\n",
    "Have any comments on this Reading Journal? Feel free to leave them [here](https://goo.gl/forms/hZqCUAi4ir7hVN6x2) and we'll read them when you submit your journal entry. This could include suggestions to improve the exercises, topics you'd like to see covered in class next time, or other feedback.\n",
    "\n",
    "If you have Python questions or run into problems while completing the reading, you should post them to Piazza instead so you can get a quick response before your journal is submitted."
   ]
  }
 ],
 "metadata": {
  "kernelspec": {
   "display_name": "Python 3",
   "language": "python",
   "name": "python3"
  },
  "language_info": {
   "codemirror_mode": {
    "name": "ipython",
    "version": 3
   },
   "file_extension": ".py",
   "mimetype": "text/x-python",
   "name": "python",
   "nbconvert_exporter": "python",
   "pygments_lexer": "ipython3",
   "version": "3.5.2"
  }
 },
 "nbformat": 4,
 "nbformat_minor": 0
}
