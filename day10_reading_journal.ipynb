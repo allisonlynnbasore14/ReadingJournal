{
 "cells": [
  {
   "cell_type": "code",
   "execution_count": null,
   "metadata": {
    "collapsed": true
   },
   "outputs": [],
   "source": [
    "# Day 10 Reading Journal\n",
    "\n",
    "This journal includes several required exercises, but it is meant to encourage active reading more generally.  You should use the journal to take detailed notes, catalog questions, and explore the content from Think Python deeply.\n",
    "\n",
    "Reading: Review Think Python Chapters 15-17\n",
    "\n",
    "**Due: Thursday, February 23 at 12 noon**\n",
    "\n"
   ]
  },
  {
   "cell_type": "markdown",
   "metadata": {},
   "source": [
    "## [Chapter 15](http://www.greenteapress.com/thinkpython2/html/thinkpython2016.html), [Chapter 16](http://www.greenteapress.com/thinkpython2/html/thinkpython2017.html), [Chapter 17](http://www.greenteapress.com/thinkpython2/html/thinkpython2018.html)\n",
    "\n",
    "\n",
    "By the end of chapter 17, we have all the tools we need to create our own user-defined types known as classes. In this reading journal, we're asking you to review and solidify your understanding of this material so we can build on it for the rest of the course. \n",
    "\n",
    "If you didn't get a chance to fully complete the Day 9 reading journal, you may want to do so now."
   ]
  },
  {
   "cell_type": "markdown",
   "metadata": {
    "problem": "Terminology"
   },
   "source": [
    "### Terminology\n",
    "\n",
    "You should be familiar with the following list of terms and concepts. If any of them are unclear to you, re-read, ask, write a definition in your own words, and try an example if appropriate.\n",
    "\n",
    " - class\n",
    " - object\n",
    " - instance\n",
    " - attribute\n",
    " - method\n",
    " - shallow vs deep copying\n",
    " - pure functions vs modifiers\n",
    " - initializing object instances\n",
    " "
   ]
  },
  {
   "cell_type": "code",
   "execution_count": 8,
   "metadata": {
    "collapsed": false
   },
   "outputs": [
    {
     "name": "stdout",
     "output_type": "stream",
     "text": [
      "(3,4)\n",
      "(5,9)\n",
      "(3,4)\n"
     ]
    }
   ],
   "source": [
    "import copy\n",
    "\n",
    "\n",
    "\n",
    "#TERMINOLOGY NOTES\n",
    "\n",
    "#class = user defined type of object\n",
    "class Point(object):\n",
    "    \"\"\"A cordinate point in a plane\"\"\"\n",
    "    def __init__(self, xval=0, yval=0):\n",
    "        self.x = xval\n",
    "        self.y = yval\n",
    "    def __str__(self):\n",
    "        return '(%d,%d)' %(self.x,self.y)\n",
    "    \n",
    "#object:\n",
    "#Each point is a user defined object\n",
    "#other obejcts could be strings, lists, tuples, etc.\n",
    "\n",
    "#Instances of class:\n",
    "Point1 = Point(3,4)\n",
    "Point2 = Point()\n",
    "print(Point1)\n",
    "\n",
    "#Attribute: of a assigning values to elements using dot natation\n",
    "Point3 = Point()\n",
    "Point3.x = 5\n",
    "Point3.y = 9\n",
    "print(Point3)\n",
    "\n",
    "#Method: a function that is associated with a class\n",
    "#see the str method in the class definition\n",
    "\n",
    "#shallow vs deep copying: \n",
    "#if you want to copy just an object use copy.copy(object) SHALLOW\n",
    "#if you want to copy an option and all its dependent objects use copy.deepcopy DEEP\n",
    "\n",
    "P = copy.copy(Point1)\n",
    "print(P)\n",
    "\n",
    "#Pure Functions and Modifiers\n",
    "#Pure has no effect on its inputs and just returns a value without changing anything\n",
    "#Modifiers change the parameters they are passed\n",
    "\n",
    "\n",
    "#initalizing object instances\n",
    "#creating a __init__ method that is used every time an object is initalized\n",
    "\n"
   ]
  },
  {
   "cell_type": "markdown",
   "metadata": {
    "is_question": true,
    "problem": "Exercise 1"
   },
   "source": [
    "### Exercise\n",
    "\n",
    "We're going to take the first steps toward writing a calendar application. To keep things simple, we'll restrict ourselves to a single day for now. Write an `Event` class with the following attributes:\n",
    "\n",
    " - `name`  : Title for the `Event`\n",
    " - `start` : `Time` object representing the start time for the `Event`\n",
    " - `end`   : `Time` object representing the end time for the `Event`\n",
    "\n",
    "You can also augment your `Event` class with additional attributes, such as location and attendees.\n",
    "\n",
    "Write `__init__` and `__str__` methods for your `Event` class."
   ]
  },
  {
   "cell_type": "code",
   "execution_count": 58,
   "metadata": {
    "collapsed": false,
    "solution": "Exercise 1"
   },
   "outputs": [
    {
     "name": "stdout",
     "output_type": "stream",
     "text": [
      "000000\n",
      "(SoftDes Class,100.0)\n",
      "(SoftDes Class,133000,151000)\n",
      "((60.0, 'Nap'),(120.0, 'Sleep'),(180.0, 'Eat'))\n"
     ]
    }
   ],
   "source": [
    "class Time(object):\n",
    "    \"\"\"Showing times of day.In army time. \n",
    "    \n",
    "    Attributes = hour, minute, second\n",
    "    \"\"\"\n",
    "    def __init__(self, hour=0, minute=0, second=0):\n",
    "        self.hour = hour\n",
    "        self.minute = minute\n",
    "        self.second = second\n",
    "    def __str__(self):\n",
    "        return '%.2d%.2d%.2d' %(self.hour,self.minute,self.second)\n",
    "t = Time()\n",
    "print(t)\n",
    "\n",
    "class Event(object):\n",
    "    \"\"\"A cordinate point in a plane\"\"\"\n",
    "    def __init__(self, Title ='None', starttime = 0, endtime = 0):\n",
    "        self.Title = Title\n",
    "        self.starttime = Time()\n",
    "        self.endtime = Time()\n",
    "        #self.starttime.hour = \n",
    "        #self.starttime.minute = startm\n",
    "        #self.starttime.second = starts\n",
    "        #self.endtime.hour = endh\n",
    "        #self.endtime.minute = endm\n",
    "        #self.endtime.second = ends\n",
    "    def __str__(self):\n",
    "        return '(%s,%s,%s)' %(self.Title, self.starttime, self.endtime)\n",
    "    def duration(self):\n",
    "        stra = ((self.starttime.hour)*60)+ self.starttime.minute + (self.starttime.second/60)\n",
    "        endd =((self.endtime.hour)*60)+ self.endtime.minute + (self.endtime.second/60)\n",
    "        self.duration = endd-stra\n",
    "        return self.duration\n",
    "        #return self.starttime.hour*60\n",
    "    def showdur(self):\n",
    "        print( '(%s,%s)' %(self.Title, self.duration))\n",
    "    \n",
    "class Agenda(object):\n",
    "    \"\"\"setting multiple events\"\"\"\n",
    "    def __init__(self,event1=0,event2=0,event3=0,Name='None'):\n",
    "        self.Name = Name\n",
    "        self.event1 = Event()\n",
    "        self.event2 = Event()\n",
    "        self.event3 = Event()\n",
    "    def __str__(self):\n",
    "        bank = []\n",
    "        bank2 = []\n",
    "        bank.append(self.event1.duration())\n",
    "        bank.append(self.event2.duration())\n",
    "        bank.append(self.event3.duration())\n",
    "        bank.sort()\n",
    "        for i in bank:\n",
    "            if i == self.event1.duration:\n",
    "                bank2.append((i,self.event1.Title))\n",
    "            if i == self.event2.duration:\n",
    "                bank2.append((i,self.event2.Title))\n",
    "            if i == self.event3.duration:\n",
    "                bank2.append((i,self.event3.Title))          \n",
    "        return( '(%s,%s,%s)' %( bank2[0], bank2[1], bank2[2]))\n",
    "    \n",
    "    \n",
    "day1 = Event()\n",
    "day1.Title = 'SoftDes Class'\n",
    "day1.starttime.hour = 13\n",
    "day1.starttime.minute = 30\n",
    "day1.endtime.hour = 15\n",
    "day1.endtime.minute = 10\n",
    "day1.duration()\n",
    "day1.showdur()\n",
    "print(day1)\n",
    "\n",
    "Week1 = Agenda()\n",
    "Week1.event1.Title = 'Sleep'\n",
    "Week1.event2.Title = 'Nap'\n",
    "Week1.event3.Title = 'Eat'\n",
    "Week1.event1.starttime.hour = 3\n",
    "Week1.event1.endtime.hour = 5\n",
    "Week1.event2.starttime.hour = 6\n",
    "Week1.event2.endtime.hour = 7\n",
    "Week1.event3.starttime.hour = 9\n",
    "Week1.event3.endtime.hour = 12\n",
    "print(Week1)\n"
   ]
  },
  {
   "cell_type": "raw",
   "metadata": {
    "is_question": true,
    "problem": "Exercise 2"
   },
   "source": [
    "### Exercise\n",
    "\n",
    "Write a `duration` method that returns the duration of the `Event` in minutes."
   ]
  },
  {
   "cell_type": "code",
   "execution_count": null,
   "metadata": {
    "collapsed": true,
    "solution": "Exercise 2"
   },
   "outputs": [],
   "source": [
    "#See above under class definition"
   ]
  },
  {
   "cell_type": "markdown",
   "metadata": {
    "is_question": true,
    "problem": "Exercise 3"
   },
   "source": [
    "### Exercise\n",
    "\n",
    "Write an `Agenda` class that contains several `Event`s for the day.\n",
    "\n",
    "**Quick check: ** How should you store `Event`s within your `Agenda` class?\n"
   ]
  },
  {
   "cell_type": "markdown",
   "metadata": {},
   "source": [
    "Each event is an instance of the class. So you can always add more Events. Althought it is kinda a pain to use the dot method to change evernthing in an Agenda.\n"
   ]
  },
  {
   "cell_type": "markdown",
   "metadata": {},
   "source": [
    " "
   ]
  },
  {
   "cell_type": "markdown",
   "metadata": {},
   "source": [
    "Your `Agenda` class should include a `print_agenda` method that prints out your schedule for the day, in order.\n",
    "\n",
    "**Optional:** Include a `is_feasible` method that returns `True` if your schedule has no time conflicts. You may want to write additional helper methods for the `Event` class to make this easier."
   ]
  },
  {
   "cell_type": "code",
   "execution_count": null,
   "metadata": {
    "collapsed": true,
    "solution": "Exercise 3"
   },
   "outputs": [],
   "source": []
  },
  {
   "cell_type": "markdown",
   "metadata": {
    "is_question": true,
    "problem": "Exercise 4"
   },
   "source": [
    "### Going Beyond (optional)\n",
    "\n",
    "Some ideas for taking your application further:\n",
    " - Add people and/or places to the mix to create a scheduling assistant\n",
    " - Extend support for day-of-week or full date. A word of warning: dealing with dates and times in real applications is difficult due to the huge number of special cases (Perfect example: this reading journal is due on Leap Day). Consider using something like the Python [datetime](https://docs.python.org/3/library/datetime.html) module.\n",
    " - Use pickle or some other persistence strategy to save and load your `Agenda`."
   ]
  },
  {
   "cell_type": "code",
   "execution_count": null,
   "metadata": {
    "collapsed": true,
    "solution": "Exercise 4"
   },
   "outputs": [],
   "source": []
  },
  {
   "cell_type": "markdown",
   "metadata": {
    "poll_response": true,
    "solution": "Time spent"
   },
   "source": [
    " "
   ]
  },
  {
   "cell_type": "markdown",
   "metadata": {
    "is_question": true,
    "problem": "Feedback"
   },
   "source": [
    "## Reading Journal feedback\n",
    "\n",
    "[Please complete this short survey](https://docs.google.com/forms/d/e/1FAIpQLScQekhUrf6YYjpfQiAAbavLIA-IJklv_PX1BWbGgxj7JPolmw/viewform?c=0&w=1)\n",
    "\n",
    "If you have any comments on this Reading Journal, feel free to leave them in the survey linked above. This could include suggestions to improve the exercises, topics you'd like to see covered in class next time, or other feedback.\n",
    "\n",
    "If you have Python questions or run into problems while completing the reading, you should post them to Piazza instead so you can get a quick response before your journal is submitted."
   ]
  },
  {
   "cell_type": "markdown",
   "metadata": {
    "feedback_response": true,
    "solution": "Feedback"
   },
   "source": [
    " "
   ]
  }
 ],
 "metadata": {
  "kernelspec": {
   "display_name": "Python 3",
   "language": "python",
   "name": "python3"
  },
  "language_info": {
   "codemirror_mode": {
    "name": "ipython",
    "version": 3
   },
   "file_extension": ".py",
   "mimetype": "text/x-python",
   "name": "python",
   "nbconvert_exporter": "python",
   "pygments_lexer": "ipython3",
   "version": "3.5.2"
  }
 },
 "nbformat": 4,
 "nbformat_minor": 0
}
