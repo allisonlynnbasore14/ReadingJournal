{
 "cells": [
  {
   "cell_type": "markdown",
   "metadata": {},
   "source": [
    "# Day 7 Reading Journal\n",
    "\n",
    "This journal includes several required exercises, but it is meant to encourage active reading more generally.  You should use the journal to take detailed notes, catalog questions, and explore the content from Think Python deeply.\n",
    "\n",
    "Reading: Think Python Chapter 11, 12\n",
    "\n",
    "**Due: Monday, February 13 at 12 noon**\n",
    "\n"
   ]
  },
  {
   "cell_type": "markdown",
   "metadata": {},
   "source": [
    "## [Chapter 11](http://www.greenteapress.com/thinkpython/html/thinkpython012.html)\n"
   ]
  },
  {
   "cell_type": "markdown",
   "metadata": {},
   "source": [
    "**Quick check:** In about one sentence using your own words, what is a dictionary?"
   ]
  },
  {
   "cell_type": "markdown",
   "metadata": {},
   "source": [
    "A dictioinary in Python is very simular to what a real dictionary is. It has keys that corespond to values. The keys are unmutable but the values are mutable. THey are useful for sorting information and calling it later. It is like calling a certain part of a list expcet you use keys instead of numebrs. "
   ]
  },
  {
   "cell_type": "markdown",
   "metadata": {},
   "source": [
    " "
   ]
  },
  {
   "cell_type": "markdown",
   "metadata": {
    "is_question": true,
    "problem": "Exercise 11.2"
   },
   "source": [
    "### Exercise 11.2  \n",
    "\n",
    "Dictionaries have a method called [`get`](https://docs.python.org/3/library/stdtypes.html#mapping-types-dict) that takes a key and a default value. If the key appears in the dictionary, `get` returns the corresponding value; otherwise it returns the default value. For example:\n",
    "\n",
    "```\n",
    ">>> h = histogram('a')\n",
    ">>> print h\n",
    "{'a': 1}\n",
    ">>> h.get('a', 0)\n",
    "1\n",
    ">>> h.get('b', 0)\n",
    "0\n",
    "```\n",
    "\n",
    "Use `get` to write `histogram` more concisely. You should be able to eliminate the `if` statement. Add unit tests for your histogram implementation."
   ]
  },
  {
   "cell_type": "code",
   "execution_count": 10,
   "metadata": {
    "collapsed": false,
    "solution": "Exercise 11.2"
   },
   "outputs": [
    {
     "name": "stdout",
     "output_type": "stream",
     "text": [
      "{'a': 1, 'i': 1, 'o': 1, 'n': 1, 'l': 2, 's': 1}\n"
     ]
    }
   ],
   "source": [
    "def histogram(s):\n",
    "    d = dict()\n",
    "    for c in s:\n",
    "        d[c] = d.get(c,0)\n",
    "        d[c] += 1\n",
    "    return d\n",
    "\n",
    "print(histogram('allison'))"
   ]
  },
  {
   "cell_type": "markdown",
   "metadata": {},
   "source": [
    " "
   ]
  },
  {
   "cell_type": "markdown",
   "metadata": {
    "is_question": true,
    "problem": "Exercise 11.4"
   },
   "source": [
    "### Exercise 11.4  \n",
    "\n",
    "Modify `reverse_lookup` so that it builds and returns a list of all keys that map to `v`, or an empty list if there are none. Add unit tests for your implementation."
   ]
  },
  {
   "cell_type": "code",
   "execution_count": 15,
   "metadata": {
    "collapsed": false,
    "solution": "Exercise 11.4"
   },
   "outputs": [],
   "source": [
    "def reverse_lookup(d, v):\n",
    "    \"\"\"\n",
    "    Returns a list of all the keys in d that map to v.\n",
    "    >>> reverse_lookup({'a':1,'b':2,'c':4, 'd':1},1)\n",
    "    ['a', 'd']\n",
    "    \"\"\"\n",
    "    output = []\n",
    "    for k in d:\n",
    "        if d[k] == v:\n",
    "            output.append(k)\n",
    "    return output\n",
    "    \n",
    "    \n",
    "    \n",
    "if __name__ == \"__main__\":\n",
    "    import doctest\n",
    "    doctest.testmod()"
   ]
  },
  {
   "cell_type": "markdown",
   "metadata": {},
   "source": [
    "If you'd like to learn more about errors and exceptions, you can check out the [Python tutorial](https://docs.python.org/3/tutorial/errors.html) or read ahead to [Appendix A](http://www.greenteapress.com/thinkpython2/html/thinkpython2021.html) of Think Python. If you choose to use doctest for your unit testing, it can also [deal with exceptions](https://docs.python.org/3/library/doctest.html#what-about-exceptions)."
   ]
  },
  {
   "cell_type": "markdown",
   "metadata": {},
   "source": [
    " "
   ]
  },
  {
   "cell_type": "markdown",
   "metadata": {},
   "source": [
    "**Quick check** What type of objects can be used as keys to a dictionary, i.e. what property must they have?"
   ]
  },
  {
   "cell_type": "markdown",
   "metadata": {},
   "source": [
    "They have to be unmutable. So, I could not use a list or another dictionary as a key to a dictionary. "
   ]
  },
  {
   "cell_type": "markdown",
   "metadata": {},
   "source": [
    " "
   ]
  },
  {
   "cell_type": "raw",
   "metadata": {
    "is_question": true,
    "problem": "Exercise 11.6"
   },
   "source": [
    "### Exercise 11.6 (modified)\n",
    "\n",
    "Create a memoized version of your Levenshtein distance function from Day 7. What kind of performance change do you see?\n",
    "\n",
    "Optional: If you'd like to get some quantitative results, you could check out the [timeit](https://docs.python.org/3/library/timeit.html) module\n",
    "\n",
    "Note: You can also study Fibonacci here if you prefer."
   ]
  },
  {
   "cell_type": "code",
   "execution_count": 17,
   "metadata": {
    "collapsed": false,
    "solution": "Exercise 11.6"
   },
   "outputs": [
    {
     "data": {
      "text/plain": [
       "8"
      ]
     },
     "execution_count": 17,
     "metadata": {},
     "output_type": "execute_result"
    }
   ],
   "source": [
    "#I am going to use the Fibonacci one because I am having trouble finding the Levenshtein one.\n",
    "\n",
    "#Here I believe this means that I need to pick the two values of the fib sequence that I know for use (0,1,2). So, 0\n",
    "#always goes to 0 and 1 to 1 and 2 to 1.\n",
    "\n",
    "bank = {0:0,1:1,2:1}\n",
    "\n",
    "def fib(n):\n",
    "    for i in bank:\n",
    "        if n == i:\n",
    "            return bank[n]\n",
    "    output = fib(n-2) + fib(n-1)\n",
    "    return output\n",
    "\n",
    "fib(6)\n",
    "            \n",
    "#This is faster than with the old metehod. I could always make more for the bank to make it faster."
   ]
  },
  {
   "cell_type": "markdown",
   "metadata": {},
   "source": [
    " "
   ]
  },
  {
   "cell_type": "markdown",
   "metadata": {},
   "source": [
    "## [Chapter 12](http://www.greenteapress.com/thinkpython2/html/thinkpython2013.html)\n",
    "\n",
    "**Quick check:** In about one sentence using your own words, what is a tuple?"
   ]
  },
  {
   "cell_type": "markdown",
   "metadata": {},
   "source": [
    "A tuble is a way to store data that is unmutable but the obejcts inside do not have to be mutable, so they can be changed."
   ]
  },
  {
   "cell_type": "markdown",
   "metadata": {},
   "source": [
    " "
   ]
  },
  {
   "cell_type": "markdown",
   "metadata": {
    "is_question": true,
    "problem": "Exercise 12.1"
   },
   "source": [
    "### Chapter 12.4  \n",
    "\n",
    "Many of the built-in functions use variable-length argument tuples. For example, `max` and `min` can take any number of arguments:\n",
    "\n",
    "```\n",
    ">>> max(1,2,3)\n",
    "3\n",
    "```\n",
    "\n",
    "But `sum` does not.\n",
    "\n",
    "```\n",
    ">>> sum(1,2,3)\n",
    "TypeError: sum expected at most 2 arguments, got 3\n",
    "```\n",
    "\n",
    "Write a function called ```sumall``` that takes any number of arguments and returns their sum. \n",
    "\n",
    "Write unit tests for your function. Do I actually need to keep saying this? Let's assume it's always a good idea :)"
   ]
  },
  {
   "cell_type": "code",
   "execution_count": 20,
   "metadata": {
    "collapsed": false,
    "solution": "Exercise 12.1"
   },
   "outputs": [],
   "source": [
    "\n",
    "def sumall(*inputs):\n",
    "    \"\"\"\n",
    "    Returns a sum of all the input arguments.\n",
    "    >>> sumall(3,4,4,4,4,1)\n",
    "    20\n",
    "    \"\"\"\n",
    "    output = 0\n",
    "    for n in inputs:\n",
    "        output += n\n",
    "    return output\n",
    "\n",
    "\n",
    "\n",
    "if __name__ == \"__main__\":\n",
    "    import doctest\n",
    "    doctest.testmod()"
   ]
  },
  {
   "cell_type": "markdown",
   "metadata": {},
   "source": [
    "If you're interested in more flexible ways to pass arguments to functions, check out the [Python tutorial](https://docs.python.org/3/tutorial/controlflow.html#more-on-defining-functions). For instance, you can also use keyword arguments, which are collected into a dictionary just like `*` gathers variable numbers of positional arguments into a tuple.\n",
    "\n",
    "This pattern is very common for defining functions with complex optional behaviors in Python, and you will often see definitions like:\n",
    "\n",
    "```\n",
    "def my_func(required_argument1, *arguments, **keywords):\n",
    "    ...\n",
    "```"
   ]
  },
  {
   "cell_type": "markdown",
   "metadata": {},
   "source": [
    " "
   ]
  },
  {
   "cell_type": "markdown",
   "metadata": {
    "is_question": true,
    "problem": "Exercise 12 sort"
   },
   "source": [
    "### Exercise\n",
    "\n",
    "Write a function `sort_by_last_letter` that takes a list of words and returns a new list with the words sorted alphabetically by the _last letter_ in the word. Hint: use the **Decorate, Sort, Undecorate** pattern. Write unit tests for your function."
   ]
  },
  {
   "cell_type": "code",
   "execution_count": 1,
   "metadata": {
    "collapsed": false,
    "solution": "Exercise 12 sort"
   },
   "outputs": [],
   "source": [
    "\n",
    "\n",
    "def sort_by_last_letter(n):\n",
    "    \"\"\"\n",
    "    Returns a list of the input words sorted by last letter\n",
    "    >>> sort_by_last_letter(['allison','liz','basore'])\n",
    "    ['basore', 'allison', 'liz']\n",
    "    \"\"\"\n",
    "    preoutput = []\n",
    "    for letter in n:\n",
    "        preoutput.append((letter[-1],letter))\n",
    "    preoutput.sort()\n",
    "    output = []\n",
    "    for i,p in preoutput:\n",
    "        output.append(p)\n",
    "    return output\n",
    "\n",
    "\n",
    "if __name__ == \"__main__\":\n",
    "    import doctest\n",
    "    doctest.testmod()"
   ]
  },
  {
   "cell_type": "markdown",
   "metadata": {},
   "source": [
    " "
   ]
  },
  {
   "cell_type": "markdown",
   "metadata": {},
   "source": [
    "**Quick check** Give an example of when you might use each sequence type:\n",
    "\n",
    "- tuple\n",
    "\n",
    "- list\n",
    "\n",
    "- string"
   ]
  },
  {
   "cell_type": "markdown",
   "metadata": {},
   "source": [
    "Tuple:\n",
    "    1) making a dictionary\n",
    "    2) organzing a list\n",
    "    3) setting a return value/s\n",
    "    \n",
    "List:\n",
    "    1) make other lists that are sorted or changed somehow\n",
    "    2) store objects\n",
    "    3) store values in a dictionary\n",
    "    \n",
    "String:\n",
    "    1) common input value\n",
    "    2) Print statements\n",
    "    3) store sentences/messages\n"
   ]
  },
  {
   "cell_type": "markdown",
   "metadata": {},
   "source": [
    " "
   ]
  },
  {
   "cell_type": "markdown",
   "metadata": {
    "is_question": true,
    "problem": "Exercise 12.3"
   },
   "source": [
    "### Exercise 12.1 \n",
    "\n",
    "Write a function called `most_frequent` that takes a string and prints the letters in decreasing order of frequency. Find text samples from several different languages and see how letter frequency varies between languages. Compare your results with the tables at http://en.wikipedia.org/wiki/Letter_frequencies. \n",
    "\n",
    "Allen's solution (try it on your own first): http://greenteapress.com/thinkpython2/code/most_frequent.py. "
   ]
  },
  {
   "cell_type": "code",
   "execution_count": 37,
   "metadata": {
    "collapsed": false,
    "solution": "Exercise 12.3"
   },
   "outputs": [
    {
     "name": "stdout",
     "output_type": "stream",
     "text": [
      " \n",
      "e\n",
      "s\n",
      "r\n",
      "i\n",
      "l\n",
      "a\n",
      "t\n",
      "n\n",
      "o\n",
      "h\n",
      "c\n",
      "w\n",
      "m\n",
      "d\n",
      "u\n",
      "f\n",
      "p\n",
      "y\n",
      "g\n",
      ".\n",
      "v\n",
      "b\n",
      "A\n",
      "x\n",
      "q\n",
      "k\n",
      "R\n",
      "O\n",
      "L\n",
      "B\n",
      "None\n",
      "---------------------------------------\n",
      " \n",
      "e\n",
      "i\n",
      "t\n",
      "s\n",
      "d\n",
      "r\n",
      "n\n",
      "o\n",
      "a\n",
      "h\n",
      "w\n",
      "y\n",
      "l\n",
      ".\n",
      "p\n",
      "c\n",
      "u\n",
      "v\n",
      "g\n",
      "f\n",
      "k\n",
      "W\n",
      "A\n",
      "b\n",
      "T\n",
      "P\n",
      "O\n",
      "M\n",
      "C\n",
      "None\n",
      "---------------------------------------\n",
      " \n",
      "e\n",
      "n\n",
      "u\n",
      "s\n",
      "a\n",
      "r\n",
      "t\n",
      "l\n",
      "i\n",
      "o\n",
      "p\n",
      "m\n",
      "d\n",
      "c\n",
      ".\n",
      "v\n",
      "h\n",
      "f\n",
      "b\n",
      "E\n",
      "q\n",
      "j\n",
      "g\n",
      "M\n",
      "z\n",
      "y\n",
      "S\n",
      "H\n",
      "None\n",
      "---------------------------------------\n",
      " \n",
      "a\n",
      "i\n",
      "l\n",
      "n\n",
      "e\n",
      "t\n",
      "s\n",
      "o\n",
      "u\n",
      "h\n",
      "v\n",
      "m\n",
      "k\n",
      ".\n",
      "y\n",
      "r\n",
      "p\n",
      "j\n",
      "S\n",
      "L\n",
      "d\n",
      "P\n",
      "K\n",
      "None\n"
     ]
    }
   ],
   "source": [
    "def most_frequent(n):\n",
    "    \"\"\"\n",
    "    prints the input string's letters in order - decreasing - of frequency. \n",
    "    >>> most_frequent('aanaaaaaaaaanndb')\n",
    "    a\n",
    "    n\n",
    "    d\n",
    "    b\n",
    "    \"\"\"\n",
    "    all_sorted = {}\n",
    "    for i in n:\n",
    "        all_sorted[i] = all_sorted.get(i,0)\n",
    "        all_sorted[i] += 1\n",
    "    outputlist = []\n",
    "    for p in all_sorted:\n",
    "        outputlist.append((all_sorted[p],p))\n",
    "    outputlist.sort(reverse=True)\n",
    "    for k,v in outputlist:\n",
    "        print(v)\n",
    "\n",
    "randomENG = \"Residence certainly elsewhere something she preferred cordially law. Age his surprise formerly mrs perceive few stanhill moderate. Of in power match on truth worse voice would. Large an it sense shall an match learn By expect it result silent in formal of Ask eat questions abilities described elsewhere assurance\"\n",
    "randomENG2 = \"Two assure edward whence the was. Who worthy yet ten boy denote wonder. Weeks views her sight old tears sorry. Additions can suspected its concealed put furnished. Met the why particular devonshire decisively considered partiality. Certain it waiting no entered is. Passed her indeed uneasy shy polite appear denied. Oh less girl no walk. At he spot with five of view.\"\n",
    "randomFREN = \"Ebloui brunes ere voulez des centre polies lorsqu. Ere fit eclatantes une decharnees pic habilement renferment. Et en ma plutot je admire pareil mutuel voyons. Mon defiance appareil peu reposoir dimanche moi mal galopent. Hors dur tous peu avis ses venu. Mal geste jeune des sapin ces dut. Son titres peuple manque veilla mur.\"\n",
    "randomFIN = \"Kylla jolla tulee voi han milla istun. Silman ole voihan nyt han korsun voinut naemme saa lapsia. Sylkaisi en pelastaa lekkerin toimitan helposti anteeksi ai. Laivain saaliin ela tarinaa ota jaa. Pullon lahtee loi liivin joutua niille jaa tullut. Lapsi masto hyvat ela kas yhden saari.\"\n",
    "        \n",
    "print(most_frequent(randomENG))\n",
    "print('---------------------------------------')\n",
    "print(most_frequent(randomENG2))\n",
    "print('---------------------------------------')\n",
    "print(most_frequent(randomFREN))\n",
    "print('---------------------------------------')\n",
    "print(most_frequent(randomFIN))\n",
    "\n",
    "#if __name__ == \"__main__\":\n",
    "#    import doctest\n",
    "#    doctest.testmod()\n",
    "    "
   ]
  },
  {
   "cell_type": "markdown",
   "metadata": {},
   "source": [
    " "
   ]
  },
  {
   "cell_type": "markdown",
   "metadata": {
    "is_question": true,
    "problem": "Exercise 12.6"
   },
   "source": [
    "### Challenge: Exercise 12.4   (optional)\n",
    "\n",
    "From a [Car Talk Puzzler](http://www.cartalk.com/content/puzzlers):\n",
    "\n",
    "What is the longest English word, that remains a valid English word, as you remove its letters one at a time?\n",
    "\n",
    "Now, letters can be removed from either end, or the middle, but you can’t rearrange any of the letters. Every time you drop a letter, you wind up with another English word. If you do that, you’re eventually going to wind up with one letter and that too is going to be an English word—one that’s found in the dictionary. I want to know what’s the longest word and how many letters does it have?\n",
    "\n",
    "I’m going to give you a little modest example: Sprite. Ok? You start off with sprite, you take a letter off, one from the interior of the word, take the r away, and we’re left with the word spite, then we take the e off the end, we’re left with spit, we take the s off, we’re left with pit, it, and I. \n",
    "\n",
    "Write a program to find all words that can be reduced in this way, and then find the longest one.\n",
    "\n",
    "This exercise is a little more challenging than most, so here are some suggestions:\n",
    "\n",
    "- You might want to write a function that takes a word and computes a list of all the words that can be formed by removing one letter. These are the “children” of the word.\n",
    "- Recursively, a word is reducible if any of its children are reducible. As a base case, you can consider the empty string reducible.\n",
    "- The word list from [Chapter 9.1](http://www.greenteapress.com/thinkpython2/html/thinkpython2010.html) Exercise 1 doesn’t contain single letter words. So you might want to add “I”, “a”, and the empty string.\n",
    "- To improve the performance of your program, you might want to memoize the words that are known to be reducible.\n",
    "\n",
    "Allen's solution: http://greenteapress.com/thinkpython2/code/reducible.py."
   ]
  },
  {
   "cell_type": "code",
   "execution_count": null,
   "metadata": {
    "collapsed": true,
    "solution": "Exercise 12.6"
   },
   "outputs": [],
   "source": []
  },
  {
   "cell_type": "markdown",
   "metadata": {},
   "source": [
    " "
   ]
  },
  {
   "cell_type": "markdown",
   "metadata": {
    "is_question": true,
    "problem": "Feedback"
   },
   "source": [
    "## Reading Journal feedback\n",
    "\n",
    "[Please complete this short survey](https://docs.google.com/forms/d/e/1FAIpQLScQekhUrf6YYjpfQiAAbavLIA-IJklv_PX1BWbGgxj7JPolmw/viewform?c=0&w=1)\n",
    "\n",
    "If you have any comments on this Reading Journal, feel free to leave them in the survey linked above. This could include suggestions to improve the exercises, topics you'd like to see covered in class next time, or other feedback.\n",
    "\n",
    "If you have Python questions or run into problems while completing the reading, you should post them to Piazza instead so you can get a quick response before your journal is submitted."
   ]
  },
  {
   "cell_type": "markdown",
   "metadata": {
    "feedback_response": true,
    "solution": "Feedback"
   },
   "source": [
    " "
   ]
  }
 ],
 "metadata": {
  "kernelspec": {
   "display_name": "Python 3",
   "language": "python",
   "name": "python3"
  },
  "language_info": {
   "codemirror_mode": {
    "name": "ipython",
    "version": 3
   },
   "file_extension": ".py",
   "mimetype": "text/x-python",
   "name": "python",
   "nbconvert_exporter": "python",
   "pygments_lexer": "ipython3",
   "version": "3.5.2"
  }
 },
 "nbformat": 4,
 "nbformat_minor": 0
}
