{
 "cells": [
  {
   "cell_type": "markdown",
   "metadata": {},
   "source": [
    "# Day 1 Reading Journal\n",
    "\n",
    "Hi everyone.  These are the exercises for the first set of readings from ThinkPython.  While this journal consists of several required exercises, it is meant to encourage active reading more generally.  You should use this journal to take detailed notes, catalog questions, and explore the content from ThinkPython deeply.\n",
    "\n",
    "For more information on using the Jupyter notebook, check out the documentation [here](https://www.datacamp.com/community/tutorials/tutorial-jupyter-notebook##UseJupyter).\n",
    "\n",
    "Additionally, in order to write text in this document, you will be making use of Markdown cells. A handy cheatsheet for Markdown is available [here](https://github.com/adam-p/markdown-here/wiki/Markdown-Cheatsheet)."
   ]
  },
  {
   "cell_type": "markdown",
   "metadata": {},
   "source": [
    "## Chapter 1\n",
    "\n",
    "Note: the exercise numbers below match up with the reading for ease of cross referencing."
   ]
  },
  {
   "cell_type": "markdown",
   "metadata": {},
   "source": [
    "### Exercise 1.2\n",
    "\n",
    "Start the Python interpreter and use it as a calculator. Python’s syntax for math operations is almost the same as standard mathematical notation. For example, the symbols +, - and / denote addition, subtraction and division, as you would expect. The symbol for multiplication is *.\n",
    "\n",
    "* How many seconds are there in 42 minutes 42 seconds?\n",
    "* How many miles are there in 10 kilometers? Hint: there are 1.61 kilometers in a mile.\n",
    "* If you run a 10 kilometer race in 42 minutes 42 seconds, what is your average pace (time per mile in minutes and seconds)? What is your average speed in miles per hour?"
   ]
  },
  {
   "cell_type": "code",
   "execution_count": null,
   "metadata": {
    "collapsed": false
   },
   "outputs": [],
   "source": [
    "#Seconds in 42mins and 42 seconds\n",
    "output = 42*60 + 42"
   ]
  },
  {
   "cell_type": "code",
   "execution_count": null,
   "metadata": {
    "collapsed": true
   },
   "outputs": [],
   "source": [
    "#Miles in 10 kiolometers, 1.61kilo = 1mile\n",
    "k = 10\n",
    "ratio_m_to_k = 1/k\n",
    "m = k/(ratio_k_to_m)"
   ]
  },
  {
   "cell_type": "code",
   "execution_count": null,
   "metadata": {
    "collapsed": true
   },
   "outputs": [],
   "source": [
    "#AveragePace time divided by distance\n",
    "#kilometers per second\n",
    "k_second = k/output\n",
    "\n",
    "#kilometers per hour\n",
    "sec_to_hour = output/60/60\n",
    "k_hour = k/(sec_to_hour/60)\n",
    "\n",
    "#miles per second\n",
    "m_second = m/output\n",
    "\n",
    "#miles per hour\n",
    "m_hour = m/sec_to_hour"
   ]
  },
  {
   "cell_type": "markdown",
   "metadata": {},
   "source": [
    "## Chapter 2"
   ]
  },
  {
   "cell_type": "markdown",
   "metadata": {},
   "source": [
    "### Exercise\n",
    "\n",
    "Assume that we execute the following assignment statements:\n",
    "\n",
    "```\n",
    "width = 17\n",
    "height = 12.0\n",
    "delimiter = '.'\n",
    "```\n",
    "\n",
    "For each of the following expressions, write the value of the expression and the type (of the value of the expression).\n",
    "\n",
    "1. `width/2`\n",
    "2. `width/2.0`\n",
    "3. `height/3`\n",
    "4. `1 + 2 * 5`\n",
    "5. `delimiter * 5`\n",
    "\n",
    "Please use the following markdown cell to provide your answer."
   ]
  },
  {
   "cell_type": "markdown",
   "metadata": {},
   "source": [
    "1. 8.5 'float'\n",
    "2. 6.0 'float'\n",
    "3. 4.0 'float'\n",
    "4. 11 'interger'\n",
    "5. '.....' 'string'\n"
   ]
  },
  {
   "cell_type": "markdown",
   "metadata": {},
   "source": [
    "### Exercise 2\n",
    "\n",
    "Practice using the Python interpreter as a calculator.  For each of these provide Python code that computes each answer."
   ]
  },
  {
   "cell_type": "markdown",
   "metadata": {},
   "source": [
    "The volume of a sphere with radius r is 4/3 $\\pi r^3$. What is the volume of a sphere with radius 5? Hint: 392.7 is wrong!"
   ]
  },
  {
   "cell_type": "code",
   "execution_count": null,
   "metadata": {
    "collapsed": true
   },
   "outputs": [],
   "source": [
    "import math\n",
    "pi = math.pi\n",
    "r = 5\n",
    "V = (4/3)*pi*(r**3)"
   ]
  },
  {
   "cell_type": "markdown",
   "metadata": {},
   "source": [
    "Suppose the cover price of a book is \\$24.95, but bookstores get a 40% discount. Shipping costs \\$3 for the first copy and 75 cents for each additional copy. What is the total wholesale cost for 60 copies?"
   ]
  },
  {
   "cell_type": "code",
   "execution_count": null,
   "metadata": {
    "collapsed": true
   },
   "outputs": [],
   "source": [
    "#Finding book price,cp = cover price\n",
    "cp = 24.95\n",
    "discount = 0.4\n",
    "copies = 60\n",
    "shipping = ((copies -1)*0.75)+3\n",
    "total = (cp*discount) + shipping"
   ]
  },
  {
   "cell_type": "markdown",
   "metadata": {},
   "source": [
    "If I leave my house at 6:52 am and run 1 mile at an easy pace (8:15 per mile), then 3 miles at tempo (7:12 per mile) and 1 mile at easy pace again, what time do I get home for breakfast? "
   ]
  },
  {
   "cell_type": "markdown",
   "metadata": {},
   "source": [
    "#finding how long the run took, convert all to minutes, divide to find minutes and hours\n",
    "\n",
    "mile1_sec = (8*60) + 15\n",
    "mile2_sec = (7*60) +12\n",
    "mile3_sec = mile2_sec\n",
    "mile4_sec = mile2_sec\n",
    "mile5_sec = mile1_sec\n",
    "run_time_in_sec = mile1_sec + mile2_sec + mile3_sec +mile4_sec + mile5_sec\n",
    "\n",
    "#finding the start time to add to in minutes and seconds\n",
    "\n",
    "starttime_in_sec = (6*60*60)+(52*60)\n",
    "totalsec = run_time_in_sec + starttime_in_sec\n",
    "\n",
    "#converting from seconds to hours:mins:seconds format\n",
    "\n",
    "hours = totalsec//(60*60)\n",
    "mins = (totalsec - ((60*60)* hours))//60\n",
    "secs =(totalsec - (60*60)* hours) - (60*mins)\n",
    "\n",
    "#putting it all together\n",
    "\n",
    "time_for_breakfast = 'You would eat at %d:%d:%d' %(hours, mins, secs)"
   ]
  },
  {
   "cell_type": "markdown",
   "metadata": {},
   "source": [
    "## Chapter 3"
   ]
  },
  {
   "cell_type": "markdown",
   "metadata": {},
   "source": [
    "##### Exercise 1\n",
    "\n",
    "Write a function named `right_justify` that takes a string named s as a parameter and prints the string with enough leading spaces so that the last letter of the string is in column 70 of the display.\n",
    "\n",
    "```\n",
    ">>> right_justify('monty')\n",
    "                                                                 monty\n",
    "```\n",
    "Hint: Use string concatenation and repetition. Also, Python provides a built-in function called `len` that returns the length of a string, so the value of `len('monty')` is 5."
   ]
  },
  {
   "cell_type": "code",
   "execution_count": null,
   "metadata": {
    "collapsed": true
   },
   "outputs": [],
   "source": [
    "#counts the number of letters in a string and prints the last letter 70 spcaes from the prompt line\n",
    "def right_justify(word):\n",
    "    num = len(word)\n",
    "    spaces = 70-num\n",
    "    print(' '*spaces + word)"
   ]
  },
  {
   "cell_type": "raw",
   "metadata": {},
   "source": [
    "### Exercise 5\n",
    "\n",
    "Note: This exercise should be done using only the statements and other features we have learned so far.\n",
    "\n",
    "Write a function that draws a grid like the following:\n",
    "\n",
    "```\n",
    "+ - - - - + - - - - +\n",
    "|         |         |\n",
    "|         |         |\n",
    "|         |         |\n",
    "|         |         |\n",
    "+ - - - - + - - - - +\n",
    "|         |         |\n",
    "|         |         |\n",
    "|         |         |\n",
    "|         |         |\n",
    "+ - - - - + - - - - +\n",
    "```\n",
    "\n",
    "*Hint*: to print more than one value on a line, you can print a comma-separated sequence of values:\n",
    "\n",
    "```\n",
    "print('+', '-')\n",
    "```\n",
    "\n",
    "By default, `print` advances to the next line, but you can override that behavior and put a space at the end, like this:\n",
    "\n",
    "```\n",
    "print('+', end=' ')\n",
    "print('-')\n",
    "```\n",
    "\n",
    "The output of these statements is '+ -'.\n",
    "\n",
    "A `print` statement with no argument ends the current line and goes to the next line."
   ]
  },
  {
   "cell_type": "code",
   "execution_count": null,
   "metadata": {
    "collapsed": true
   },
   "outputs": [],
   "source": [
    "#making a function for printing first line type\n",
    "def firstl():\n",
    "    l = (('-'*4) + '+')\n",
    "    print('+' + l*2)\n",
    "\n",
    "#making a function for printing middle line type\n",
    "def middlel():\n",
    "    l = ('|'+ (' '*4))\n",
    "    print(l*3)\n",
    "    \n",
    "#making a function that makes the rectangle\n",
    "def rect(middlel, firstl):\n",
    "    firstl()\n",
    "    middlel()\n",
    "    middlel()\n",
    "    middlel()\n",
    "    middlel()\n",
    "    firstl()\n",
    "    middlel()\n",
    "    middlel()\n",
    "    middlel()\n",
    "    middlel()\n",
    "    firstl()\n",
    "\n",
    "rect(middlel, firstl)    \n",
    "    \n"
   ]
  },
  {
   "cell_type": "markdown",
   "metadata": {},
   "source": [
    "(b) Write a function that draws a similar grid with four rows and four columns."
   ]
  },
  {
   "cell_type": "code",
   "execution_count": null,
   "metadata": {
    "collapsed": true
   },
   "outputs": [],
   "source": [
    "#making a function for printing first line type\n",
    "def firstl():\n",
    "    l = (('-'*4) + '+')\n",
    "    print('+' + l*4)\n",
    "\n",
    "#making a function for printing middle line type\n",
    "def middlel():\n",
    "    l = ('|'+ (' '*4))\n",
    "    print(l*5)\n",
    "    \n",
    "#making a function that makes the rectangle\n",
    "def rect(middlel, firstl):\n",
    "    firstl()\n",
    "    middlel()\n",
    "    middlel()\n",
    "    middlel()\n",
    "    middlel()\n",
    "\n",
    "    \n",
    "def runfour(rect, firstl):\n",
    "    rect(middlel, firstl)\n",
    "    rect(middlel, firstl)\n",
    "    rect(middlel, firstl)\n",
    "    rect(middlel, firstl)\n",
    "    firstl()\n",
    "\n",
    "runfour(rect, firstl)    \n",
    "    "
   ]
  },
  {
   "cell_type": "markdown",
   "metadata": {},
   "source": [
    "## Chapter 5.1 - 5.7"
   ]
  },
  {
   "cell_type": "markdown",
   "metadata": {},
   "source": [
    "### Exercise 2\n",
    "\n",
    "Fermat’s Last Theorem says that there are no positive integers $a$, $b$, and $c$ such that $$a^n + b^n = c^n$$ for any values of $n$ greater than 2.\n",
    "\n",
    "1\\. Write a function named `check_fermat` that takes four parameters – $a$, $b$, $c$ and $n$ – and that checks to see if Fermat’s theorem holds. If n is greater than 2 and it turns out to be true that\n",
    "$$a^n + b^n = c^n$$ the program should print, \"Holy smokes, Fermat was wrong!\" Otherwise the program should print, \"No, that doesn’t work.\""
   ]
  },
  {
   "cell_type": "code",
   "execution_count": null,
   "metadata": {
    "collapsed": true
   },
   "outputs": [],
   "source": [
    "def check_fermat(a,b,c,n):\n",
    "    if n <= 2:\n",
    "        print('n has to be bigger than 2')\n",
    "    a_and_b = a**n + b**n\n",
    "    if a_and_b == c**2:\n",
    "        print('Holy smokes, Fermat was wrong!')\n",
    "    else:\n",
    "        print('Nope that does not work')"
   ]
  },
  {
   "cell_type": "markdown",
   "metadata": {},
   "source": [
    "2\\. Write a function that prompts the user to input values for $a$, $b$, $c$ and $n$, converts them to integers, and uses `check_fermat` to check whether they violate Fermat’s theorem."
   ]
  },
  {
   "cell_type": "code",
   "execution_count": null,
   "metadata": {
    "collapsed": true
   },
   "outputs": [],
   "source": [
    "\n",
    "def check_fermat(a,b,c,n):\n",
    "    if n <= 2:\n",
    "        print('n has to be bigger than 2')\n",
    "    else:\n",
    "        a_and_b = a**n + b**n\n",
    "        if a_and_b == c**2:\n",
    "            print('Holy smokes, Fermat was wrong!')\n",
    "        else:\n",
    "            print('Nope that does not work')\n",
    "\n",
    "\n",
    "#asking for input with input function\n",
    "def check_ferm_input():\n",
    "    a = int(input('What value of a do you want:'))\n",
    "    b = int(input('What value of b do you want:'))\n",
    "    c = int(input('What value of c do you want:'))\n",
    "    n = int(input('What value of n do you want:'))\n",
    "    check_fermat(a,b,c,n)\n",
    "    \n",
    "    \n"
   ]
  },
  {
   "cell_type": "markdown",
   "metadata": {},
   "source": [
    "### Exercise 4  \n",
    "\n",
    "If you are given three sticks, you may or may not be able to arrange them in a triangle. For example, if one of the sticks is 12 inches long and the other two are one inch long, it is clear that you will not be able to get the short sticks to meet in the middle. For any three lengths, there is a simple test to see if it is possible to form a triangle:\n",
    "> If any of the three lengths is greater than the sum of the other two, then you cannot form a triangle. Otherwise, you can. (If the sum of two lengths equals the third, they form what is called a “degenerate” triangle.)\n",
    "\n",
    "1\\. Write a function named `is_triangle` that takes three integers as arguments, and that prints either \"Yes\" or \"No,\" depending on whether you can or cannot form a triangle from sticks with the given lengths."
   ]
  },
  {
   "cell_type": "code",
   "execution_count": null,
   "metadata": {
    "collapsed": true
   },
   "outputs": [],
   "source": [
    "#test three lengths to see if they can make a triangle\n",
    "\n",
    "def is_triangle(s1,s2,s3):\n",
    "    sum1 = s1+s2\n",
    "    sum2 = s1 + s3\n",
    "    sum3 = s2 + s3\n",
    "    if s1 > sum3 or s2 > sum2 or s3 > sum1:\n",
    "        print('Nope')\n",
    "    else:\n",
    "        print('Yes')"
   ]
  },
  {
   "cell_type": "markdown",
   "metadata": {},
   "source": [
    "2\\. Write a function that prompts the user to input three stick lengths, converts them to integers, and uses `is_triangle` to check whether sticks with the given lengths can form a triangle."
   ]
  },
  {
   "cell_type": "code",
   "execution_count": null,
   "metadata": {
    "collapsed": true
   },
   "outputs": [],
   "source": [
    "#test three lengths to see if they can make a triangle\n",
    "\n",
    "def is_triangle(s1,s2,s3):\n",
    "    sum1 = s1+s2\n",
    "    sum2 = s1 + s3\n",
    "    sum3 = s2 + s3\n",
    "    if s1 > sum3 or s2 > sum2 or s3 > sum1:\n",
    "        print('Nope')\n",
    "    else:\n",
    "        print('Yes')\n",
    "\n",
    "\n",
    "#asking for input with input function\n",
    "def check_tri_input():\n",
    "    side1 = int(input('What value of side #1 do you want:'))\n",
    "    side2 = int(input('What value of side #2 do you want:'))\n",
    "    side3 = int(input('What value of side #3 do you want:'))\n",
    "    is_triangle(side1, side2, side3)\n",
    "    \n"
   ]
  },
  {
   "cell_type": "markdown",
   "metadata": {},
   "source": [
    "## Quick poll\n",
    "About how long did you spend working on this Reading Journal?"
   ]
  },
  {
   "cell_type": "markdown",
   "metadata": {},
   "source": [
    "Between 4 and 5 hours (I probably spent more time than needed reading the documentation)"
   ]
  },
  {
   "cell_type": "markdown",
   "metadata": {},
   "source": [
    "## Notes for the Instructors\n",
    "\n",
    "Please use the space below to write comments to help us plan the next class session.  For instance, if you want to see us go over an example of a particular type of problem, you can indicate that here.\n",
    "\n",
    "Please remember that the best way to get quick feedback from the instructors as well as your peers, is to use Piazza.  However, consider using this channel if it doesn't make sense to post your note to Piazza."
   ]
  },
  {
   "cell_type": "markdown",
   "metadata": {},
   "source": []
  }
 ],
 "metadata": {
  "kernelspec": {
   "display_name": "Python 3",
   "language": "python",
   "name": "python3"
  },
  "language_info": {
   "codemirror_mode": {
    "name": "ipython",
    "version": 3
   },
   "file_extension": ".py",
   "mimetype": "text/x-python",
   "name": "python",
   "nbconvert_exporter": "python",
   "pygments_lexer": "ipython3",
   "version": "3.5.2"
  }
 },
 "nbformat": 4,
 "nbformat_minor": 0
}
