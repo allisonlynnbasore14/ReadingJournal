{
 "cells": [
  {
   "cell_type": "markdown",
   "metadata": {},
   "source": [
    "# Day 2 Reading Journal\n",
    "\n",
    "This journal includes several required exercises, but it is meant to encourage active reading more generally.  You should use the journal to take detailed notes, catalog questions, and explore the content from Think Python deeply.\n",
    "\n",
    "Reading: Think Python Chapter 6.1-6.4, 7\n",
    "\n",
    "**Due: Tuesday, January 24 at 12 noon**\n",
    "\n"
   ]
  },
  {
   "cell_type": "markdown",
   "metadata": {},
   "source": [
    "## [Chapter 6.1-6.4](http://greenteapress.com/thinkpython2/html/thinkpython2007.html)\n",
    "\n",
    "Note: the exercise numbers below match up with the reading for ease of cross referencing."
   ]
  },
  {
   "cell_type": "markdown",
   "metadata": {},
   "source": [
    "**Quick check:** What is a _fruitful function_?"
   ]
  },
  {
   "cell_type": "markdown",
   "metadata": {},
   "source": [
    "#See book for extended notes\n",
    "\n",
    "Functions that producce some kind of 'fruit' or value are fruitful functions. Other functions are ones that do a service, like clear whitespaces in a string."
   ]
  },
  {
   "cell_type": "markdown",
   "metadata": {},
   "source": [
    "### Chapter 6.1 \n",
    "Write a `compare` function that returns `1` if `x > y`, `0` if `x == y`, and `-1` if `x < y`."
   ]
  },
  {
   "cell_type": "code",
   "execution_count": 5,
   "metadata": {
    "collapsed": false
   },
   "outputs": [],
   "source": [
    "def comp(x,y):\n",
    "    if x > y:\n",
    "        return 1\n",
    "    elif x == y:\n",
    "        return 0\n",
    "    else:\n",
    "        return -1"
   ]
  },
  {
   "cell_type": "code",
   "execution_count": 6,
   "metadata": {
    "collapsed": false
   },
   "outputs": [
    {
     "data": {
      "text/plain": [
       "-1"
      ]
     },
     "execution_count": 6,
     "metadata": {},
     "output_type": "execute_result"
    }
   ],
   "source": [
    "comp(3,7)"
   ]
  },
  {
   "cell_type": "markdown",
   "metadata": {},
   "source": [
    "**Quick check:** Modify the `absolute_value` function so that it returns the correct result for all integer inputs."
   ]
  },
  {
   "cell_type": "code",
   "execution_count": 3,
   "metadata": {
    "collapsed": false
   },
   "outputs": [],
   "source": [
    "def absolute_value(x):\n",
    "    if x < 0:\n",
    "        return -x\n",
    "    if x > 0:\n",
    "        return x\n",
    "    if x == 0:\n",
    "        return 0"
   ]
  },
  {
   "cell_type": "code",
   "execution_count": 4,
   "metadata": {
    "collapsed": false
   },
   "outputs": [
    {
     "data": {
      "text/plain": [
       "3"
      ]
     },
     "execution_count": 4,
     "metadata": {},
     "output_type": "execute_result"
    }
   ],
   "source": [
    "absolute_value(3)"
   ]
  },
  {
   "cell_type": "markdown",
   "metadata": {},
   "source": [
    "### Chapter 6.2 \n",
    "Use incremental development to write a function called `hypotenuse` that returns the length of the hypotenuse of a right triangle given the lengths of the two legs as arguments. Record each stage of the development process as you go, using as many cells as you need."
   ]
  },
  {
   "cell_type": "code",
   "execution_count": null,
   "metadata": {
    "collapsed": true
   },
   "outputs": [],
   "source": [
    "#making a function for finding the hypotenuse of a right triangle using pythagoen's therorm"
   ]
  },
  {
   "cell_type": "code",
   "execution_count": 9,
   "metadata": {
    "collapsed": true
   },
   "outputs": [],
   "source": [
    "#first step is to have the correct input and name of function and check if it does what I expect it to \n",
    "def tri_right(a,b):\n",
    "    answer = 0\n",
    "    return answer"
   ]
  },
  {
   "cell_type": "code",
   "execution_count": 15,
   "metadata": {
    "collapsed": false
   },
   "outputs": [
    {
     "data": {
      "text/plain": [
       "5.0"
      ]
     },
     "execution_count": 15,
     "metadata": {},
     "output_type": "execute_result"
    }
   ],
   "source": [
    "#next is to add pythagoean's therom\n",
    "import math\n",
    "def tri_right(a,b):\n",
    "    answer = math.sqrt(a**2 + b**2)\n",
    "    return answer\n",
    "\n",
    "tri_right(3,4)"
   ]
  },
  {
   "cell_type": "code",
   "execution_count": 18,
   "metadata": {
    "collapsed": false
   },
   "outputs": [
    {
     "data": {
      "text/plain": [
       "13"
      ]
     },
     "execution_count": 18,
     "metadata": {},
     "output_type": "execute_result"
    }
   ],
   "source": [
    "#next is to print an error if it is not a right triangle\n",
    "import math\n",
    "def tri_right(a,b):\n",
    "    answer = math.sqrt(a**2 + b**2)\n",
    "    if answer % 1 == 0:\n",
    "        return int(answer)\n",
    "    else:\n",
    "        print('Sorry, that is not a right triangle')\n",
    "\n",
    "tri_right(5,12)"
   ]
  },
  {
   "cell_type": "markdown",
   "metadata": {},
   "source": [
    "### Chapter 6.4\n",
    "Write a function `is_between(x, y, z)` that returns `True` if `x ≤ y ≤ z` or `False` otherwise."
   ]
  },
  {
   "cell_type": "code",
   "execution_count": null,
   "metadata": {
    "collapsed": false
   },
   "outputs": [],
   "source": []
  },
  {
   "cell_type": "markdown",
   "metadata": {},
   "source": [
    "## [Chapter 7](http://greenteapress.com/thinkpython2/html/thinkpython2008.html)\n",
    "\n"
   ]
  },
  {
   "cell_type": "markdown",
   "metadata": {},
   "source": [
    "**Quick check:** How do you test for equality in Python?"
   ]
  },
  {
   "cell_type": "markdown",
   "metadata": {},
   "source": [
    "To check if two objects are equal you use two equal signs: ==.\n",
    "To make the right obejct equal to the left object you use one equal sign: =."
   ]
  },
  {
   "cell_type": "markdown",
   "metadata": {},
   "source": [
    "**Challenge:** Prove/disprove the Collatz conjecture :)"
   ]
  },
  {
   "cell_type": "code",
   "execution_count": null,
   "metadata": {
    "collapsed": true
   },
   "outputs": [],
   "source": [
    "#No one has been able to prove or disprove the Collatz conjecture, but the code to test it would be as follows.\n",
    "#the larger the number the more runs through the loop that it takes to end"
   ]
  },
  {
   "cell_type": "code",
   "execution_count": 31,
   "metadata": {
    "collapsed": false,
    "scrolled": true
   },
   "outputs": [
    {
     "name": "stdout",
     "output_type": "stream",
     "text": [
      "110\n",
      "55.0\n",
      "166.0\n",
      "83.0\n",
      "250.0\n",
      "125.0\n",
      "376.0\n",
      "188.0\n",
      "94.0\n",
      "47.0\n",
      "142.0\n",
      "71.0\n",
      "214.0\n",
      "107.0\n",
      "322.0\n",
      "161.0\n",
      "484.0\n",
      "242.0\n",
      "121.0\n",
      "364.0\n",
      "182.0\n",
      "91.0\n",
      "274.0\n",
      "137.0\n",
      "412.0\n",
      "206.0\n",
      "103.0\n",
      "310.0\n",
      "155.0\n",
      "466.0\n",
      "233.0\n",
      "700.0\n",
      "350.0\n",
      "175.0\n",
      "526.0\n",
      "263.0\n",
      "790.0\n",
      "395.0\n",
      "1186.0\n",
      "593.0\n",
      "1780.0\n",
      "890.0\n",
      "445.0\n",
      "1336.0\n",
      "668.0\n",
      "334.0\n",
      "167.0\n",
      "502.0\n",
      "251.0\n",
      "754.0\n",
      "377.0\n",
      "1132.0\n",
      "566.0\n",
      "283.0\n",
      "850.0\n",
      "425.0\n",
      "1276.0\n",
      "638.0\n",
      "319.0\n",
      "958.0\n",
      "479.0\n",
      "1438.0\n",
      "719.0\n",
      "2158.0\n",
      "1079.0\n",
      "3238.0\n",
      "1619.0\n",
      "4858.0\n",
      "2429.0\n",
      "7288.0\n",
      "3644.0\n",
      "1822.0\n",
      "911.0\n",
      "2734.0\n",
      "1367.0\n",
      "4102.0\n",
      "2051.0\n",
      "6154.0\n",
      "3077.0\n",
      "9232.0\n",
      "4616.0\n",
      "2308.0\n",
      "1154.0\n",
      "577.0\n",
      "1732.0\n",
      "866.0\n",
      "433.0\n",
      "1300.0\n",
      "650.0\n",
      "325.0\n",
      "976.0\n",
      "488.0\n",
      "244.0\n",
      "122.0\n",
      "61.0\n",
      "184.0\n",
      "92.0\n",
      "46.0\n",
      "23.0\n",
      "70.0\n",
      "35.0\n",
      "106.0\n",
      "53.0\n",
      "160.0\n",
      "80.0\n",
      "40.0\n",
      "20.0\n",
      "10.0\n",
      "5.0\n",
      "16.0\n",
      "8.0\n",
      "4.0\n",
      "2.0\n"
     ]
    }
   ],
   "source": [
    "def collatz(n):\n",
    "    while n!=1:\n",
    "        print (n)\n",
    "        if  n%2 == 0:                                                                                                #            n            is            even\n",
    "            n = n/2\n",
    "        else:                                                                                                                                                                                     #            n            is            odd\n",
    "            n = n*3+1\n",
    "        \n",
    "collatz(110)"
   ]
  },
  {
   "cell_type": "markdown",
   "metadata": {},
   "source": []
  },
  {
   "cell_type": "markdown",
   "metadata": {},
   "source": [
    "### Chapter 7.5\n",
    "Encapsulate the loop from Section 7.5 in a function called `square_root` that takes `a` as a parameter, chooses a reasonable value of `x`, and returns an estimate of the square root of `a`."
   ]
  },
  {
   "cell_type": "code",
   "execution_count": 46,
   "metadata": {
    "collapsed": false
   },
   "outputs": [
    {
     "name": "stdout",
     "output_type": "stream",
     "text": [
      "13.125\n",
      "20\n",
      "11.324404761904763\n",
      "13.125\n",
      "11.1812562574307\n",
      "11.324404761904763\n",
      "11.18033992504991\n",
      "11.1812562574307\n",
      "11.180339887498949\n",
      "11.18033992504991\n",
      "11.180339887498949\n",
      "11.180339887498949\n"
     ]
    }
   ],
   "source": [
    "#makes a loop to finds an estimate of a square root\n",
    "\n",
    "def square_root(a, guess):\n",
    "    #make a True loop\n",
    "    while True:   \n",
    "        #first I use newton's equation\n",
    "        answer = (guess + (a/guess))/2\n",
    "        #next I test if it is close enough to the last answer\n",
    "        print(answer)\n",
    "        print(guess)\n",
    "        if answer == guess:\n",
    "            break\n",
    "        guess = answer\n",
    "\n",
    "square_root(125,20)"
   ]
  },
  {
   "cell_type": "code",
   "execution_count": 18,
   "metadata": {
    "collapsed": false
   },
   "outputs": [
    {
     "name": "stdout",
     "output_type": "stream",
     "text": [
      "<class 'float'>\n"
     ]
    }
   ],
   "source": [
    "#since this loop will keep going until guess and answer are exactly equal, it has a possibility of never ending. \n",
    "#So, the book suggests using epsilon which gives the check a certain level of tolerance\n",
    "\n",
    "#furthermore, this function only takes one parameter and makes a resonable guess itself\n",
    "\n",
    "\n",
    "def square_root(n):\n",
    "    if n > 100 and n < 500:\n",
    "        guess = n/20\n",
    "    elif n < 10:\n",
    "        guess = 5\n",
    "    else:\n",
    "        guess = n/100\n",
    "    tol_num = 0.000001\n",
    "    while True:\n",
    "        answer = (guess + (n/guess))/2\n",
    "        if abs(guess - answer)< tol_num:\n",
    "            answer = float(answer)\n",
    "            return answer\n",
    "            break\n",
    "        guess = answer\n",
    "    "
   ]
  },
  {
   "cell_type": "markdown",
   "metadata": {},
   "source": [
    "### Exercise 7.1  \n",
    "To test the square root algorithm you developed in Exercise 2, you could compare it with Python's `math.sqrt` function. Write a function named `test_square_root` that prints a table like this:\n",
    "\n",
    "```python\n",
    "1.0 1.0           1.0           0.0\n",
    "2.0 1.41421356237 1.41421356237 2.22044604925e-16\n",
    "3.0 1.73205080757 1.73205080757 0.0\n",
    "4.0 2.0           2.0           0.0\n",
    "5.0 2.2360679775  2.2360679775  0.0\n",
    "6.0 2.44948974278 2.44948974278 0.0\n",
    "7.0 2.64575131106 2.64575131106 0.0\n",
    "8.0 2.82842712475 2.82842712475 4.4408920985e-16\n",
    "9.0 3.0           3.0           0.0\n",
    "```\n",
    "\n",
    "The first column is a number, `a`; the second column is the square root of a computed with the function from Section 7.5; the third column is the square root computed by `math.sqrt`; the fourth column is the absolute value of the difference between the two estimates."
   ]
  },
  {
   "cell_type": "code",
   "execution_count": 20,
   "metadata": {
    "collapsed": false
   },
   "outputs": [
    {
     "name": "stdout",
     "output_type": "stream",
     "text": [
      "0 5.960464477539062e-07 0.0 5.960464477539062e-07\n",
      "1 1.0 1.0 0.0\n",
      "2 1.4142135623730954 1.4142135623730951 2.220446049250313e-16\n",
      "3 1.7320508075688772 1.7320508075688772 0.0\n",
      "4 2.0 2.0 0.0\n",
      "5 2.236067977499978 2.23606797749979 1.8829382497642655e-13\n",
      "6 2.449489742783184 2.449489742783178 6.217248937900877e-15\n",
      "7 2.6457513110645907 2.6457513110645907 0.0\n",
      "8 2.82842712474619 2.8284271247461903 -4.440892098500626e-16\n",
      "9 3.0 3.0 0.0\n"
     ]
    }
   ],
   "source": [
    "#this is for testing my square root estimator\n",
    "import math\n",
    "def test_square_root():\n",
    "    #first I take a range of values for a:\n",
    "    for a in range(10):\n",
    "        my_func = square_root(a)\n",
    "        math_func = math.sqrt(a)\n",
    "        diff = my_func - math_func\n",
    "        print(a, my_func, math_func, diff)\n",
    "        \n",
    "test_square_root()"
   ]
  },
  {
   "cell_type": "markdown",
   "metadata": {},
   "source": [
    "### Challenge: Exercise 7.3  (optional)\n",
    "The mathematician Srinivasa Ramanujan found an infinite series that can be used to generate a numerical approximation of\n",
    "$\\frac{1}{\\pi}$:\n",
    "\n",
    "$$\\frac{1}{\\pi} = \\frac{2 \\sqrt{2}}{9801} \\sum_{k=0}^{\\infty} \\frac{(4k)! (1103+26390k)}{(k!)^4 396^{4k}}$$\n",
    " \n",
    "Write a function called `estimate_pi` that uses this formula to compute and return an estimate of $\\pi$. It should use a `while` loop to compute terms of the summation until the last term is smaller than `1e-15` (which is Python notation for $10^{−15}$). You can check the result by comparing it to `math.pi`.\n",
    "\n",
    "[Possible solution](http://thinkpython.com/code/pi.py) (give the exercise a try before viewing the solution)"
   ]
  },
  {
   "cell_type": "code",
   "execution_count": 28,
   "metadata": {
    "collapsed": false
   },
   "outputs": [
    {
     "name": "stdout",
     "output_type": "stream",
     "text": [
      "0.0\n"
     ]
    }
   ],
   "source": [
    "def fact(n):\n",
    "    if n == 0:\n",
    "        return 1\n",
    "    else:\n",
    "        l = fact(n-1)\n",
    "        total = l * n\n",
    "        return total\n",
    "    \n",
    "def estimate_pi():\n",
    "    k = 0\n",
    "    total = 0\n",
    "    coeff = (2*(math.sqrt(2)))/9801\n",
    "    while True:\n",
    "        numerator = fact(4*k)* (1103+26390*k)\n",
    "        denom = (fact(k)**4)*396**(4*k)\n",
    "        subtotal = coeff*numerator/denom\n",
    "        total += subtotal\n",
    "        k = k +1\n",
    "        if abs(subtotal) <= 1e-15:\n",
    "            break\n",
    "    return 1/total\n",
    "\n",
    "estimate_pi()\n",
    "diff = math.pi - abs(estimate_pi())\n",
    "print(diff)\n",
    "\n"
   ]
  },
  {
   "cell_type": "markdown",
   "metadata": {},
   "source": [
    "## Quick poll\n",
    "\n",
    "About how long did you spend working on this Reading Journal?"
   ]
  },
  {
   "cell_type": "markdown",
   "metadata": {},
   "source": [
    "2.5 hours"
   ]
  },
  {
   "cell_type": "markdown",
   "metadata": {},
   "source": [
    "## Reading Journal feedback\n",
    "\n",
    "Have any comments on this Reading Journal? Feel free to leave them below and we'll read them when you submit your journal entry. This could include suggestions to improve the exercises, topics you'd like to see covered in class next time, or other feedback.\n",
    "\n",
    "If you have Python questions or run into problems while completing the reading, you should post them to Piazza instead so you can get a quick response before your journal is submitted."
   ]
  },
  {
   "cell_type": "markdown",
   "metadata": {},
   "source": []
  },
  {
   "cell_type": "markdown",
   "metadata": {},
   "source": [
    " "
   ]
  }
 ],
 "metadata": {
  "kernelspec": {
   "display_name": "Python 3",
   "language": "python",
   "name": "python3"
  },
  "language_info": {
   "codemirror_mode": {
    "name": "ipython",
    "version": 3
   },
   "file_extension": ".py",
   "mimetype": "text/x-python",
   "name": "python",
   "nbconvert_exporter": "python",
   "pygments_lexer": "ipython3",
   "version": "3.5.2"
  }
 },
 "nbformat": 4,
 "nbformat_minor": 0
}
